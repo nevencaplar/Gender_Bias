{
 "cells": [
  {
   "cell_type": "code",
   "execution_count": 4,
   "metadata": {
    "collapsed": true
   },
   "outputs": [],
   "source": [
    "from sklearn.ensemble import RandomForestRegressor\n",
    "from sklearn.metrics import roc_auc_score\n",
    "import pandas as pd\n",
    "import numpy as np\n",
    "import os\n",
    "import sys\n",
    "%matplotlib inline\n",
    "from scipy import optimize\n",
    "fitfunc = lambda p, x: p[0]+0*x\n",
    "errfunc = lambda p, x, y, err: (y - fitfunc(p,x)) / err\n",
    "pinit = [1.0, -1.0]\n",
    "def column(matrix, i):\n",
    "    return [row[i] for row in matrix]\n",
    "## Replace my path with your path here\n",
    "path=\"/export/data1/caplarn/Documents/Gender/Web/\""
   ]
  },
  {
   "cell_type": "code",
   "execution_count": 45,
   "metadata": {
    "collapsed": false
   },
   "outputs": [],
   "source": [
    "##Main body of the code below"
   ]
  },
  {
   "cell_type": "code",
   "execution_count": 9,
   "metadata": {
    "collapsed": false
   },
   "outputs": [],
   "source": [
    "##Setting up\n",
    "X=pd.read_csv(path+\"Male_Train.csv\")\n",
    "y=X.pop(\"Citations\")\n",
    "categorical_variables=['Journal','Field','Region']\n",
    "for variable in categorical_variables:\n",
    "    X[variable].fillna(\"Missing\",inplace=True)\n",
    "    dummies=pd.get_dummies(X[variable],prefix=variable)\n",
    "    X=pd.concat([X,dummies],axis=1)\n",
    "    X.drop([variable],axis=1,inplace=True)\n",
    "XTest=pd.read_csv(path+\"Male_Test.csv\")\n",
    "yTest=XTest.pop(\"Citations\")\n",
    "categorical_variables=['Journal','Field','Region']\n",
    "for variable in categorical_variables:\n",
    "    XTest[variable].fillna(\"Missing\",inplace=True)\n",
    "    dummies=pd.get_dummies(XTest[variable],prefix=variable)\n",
    "    XTest=pd.concat([XTest,dummies],axis=1)\n",
    "    XTest.drop([variable],axis=1,inplace=True)  \n",
    "XFemale=pd.read_csv(path+\"Female.csv\")\n",
    "yFemale=XFemale.pop(\"Citations\")\n",
    "categorical_variables=['Journal','Field','Region']\n",
    "for variable in categorical_variables:\n",
    "    XFemale[variable].fillna(\"Missing\",inplace=True)\n",
    "    dummies=pd.get_dummies(XFemale[variable],prefix=variable)\n",
    "    XFemale=pd.concat([XFemale,dummies],axis=1)\n",
    "    XFemale.drop([variable],axis=1,inplace=True)\n",
    "number_len_females=[]\n",
    "for i in range(1959,2016):\n",
    "    number_len_females.append(len(XFemale.loc[XFemale['Year']==i]))\n",
    "    \n",
    "##Testing the code     \n",
    "os.chdir(path)\n",
    "model=RandomForestRegressor(n_estimators=50,oob_score=True,n_jobs=-1,random_state=5,max_features=0.8,min_samples_leaf=20)\n",
    "model.fit(X,y)\n",
    "yTest=model.predict(XTest)\n",
    "result_tranining_Testing=[]\n",
    "for year in range(1959,2016):\n",
    "    y_Single_Year=y[np.where(X['Year']==year)[0]]\n",
    "    y_Single_Year_Simulated=yTest[np.where(XTest['Year']==year)[0]]\n",
    "    help=[]\n",
    "    for j in range(100):\n",
    "        help.append(np.mean(y_Single_Year)/np.mean(np.random.choice(y_Single_Year_Simulated,min(len(y_Single_Year_Simulated),number_len_females[year-1959]),replace=True)))\n",
    "    result_tranining_Testing.append((year,np.mean(help),np.std(help)))\n",
    "xdata=np.array(column(result_tranining_Testing,0))\n",
    "ydata=np.array(column(result_tranining_Testing,1))\n",
    "yerrdata=np.array(column(result_tranining_Testing,2))\n",
    "outfull = optimize.leastsq(errfunc, pinit,args=(xdata, ydata, yerrdata), full_output=1)\n",
    "out85 = optimize.leastsq(errfunc, pinit,args=(xdata[26:], ydata[26:], yerrdata[26:]), full_output=1)\n",
    "out00 = optimize.leastsq(errfunc, pinit,args=(xdata[41:], ydata[41:], yerrdata[41:]), full_output=1)\n",
    "pfinal = [outfull[0][0],out85[0][0],out00[0][0]]\n",
    "np.savetxt(\"Result.csv\",[xdata,ydata,yerrdata], delimiter=\",\")\n",
    "np.savetxt(\"pfinalResult.csv\",pfinal, delimiter=\",\")\n",
    "\n",
    "#Running the algorithm #\n",
    "#This is the main part #\n",
    "yFemaleP=model.predict(XFemale)\n",
    "np.savetxt(\"yFemaleP.csv\",yFemaleP, delimiter=\",\")\n",
    "\n",
    "#To recreate Figure 6 use the output in the Wolfram Mathemtica file \"Gender_Random_Forest_Visualization.nb\"#\n",
    "#Below are routines in python to compare male and female authors#\n",
    "\n",
    "\n",
    "#Running comparions between the males and simulated females #\n",
    "result_tranining_Female=[]\n",
    "for year in range(1959,2016):\n",
    "    y_Single_Year=y[np.where(X['Year']==year)[0]]\n",
    "    y_Single_Year_Simulated=yFemaleP[np.where(XFemale['Year']==year)[0]]\n",
    "    help=[]\n",
    "    for j in range(100):\n",
    "        help.append(np.mean(y_Single_Year)/np.mean(np.random.choice(y_Single_Year_Simulated,min(len(y_Single_Year_Simulated),number_len_females[year-1959]),replace=True)))\n",
    "    result_tranining_Female.append((year,np.mean(help),np.std(help)))  \n",
    "xdata=np.array(column(result_tranining_Female,0))\n",
    "ydata=np.array(column(result_tranining_Female,1))\n",
    "yerrdata=np.array(column(result_tranining_Female,2))\n",
    "outfull = optimize.leastsq(errfunc, pinit,args=(xdata, ydata, yerrdata), full_output=1)\n",
    "out85 = optimize.leastsq(errfunc, pinit,args=(xdata[26:], ydata[26:], yerrdata[26:]), full_output=1)\n",
    "out00 = optimize.leastsq(errfunc, pinit,args=(xdata[41:], ydata[41:], yerrdata[41:]), full_output=1)\n",
    "pfinal = [outfull[0][0],out85[0][0],out00[0][0]]\n",
    "np.savetxt(\"malefemResult.csv\",[xdata,ydata,yerrdata], delimiter=\",\")\n",
    "np.savetxt(\"pfinalmalefemResult.csv\",pfinal, delimiter=\",\")\n",
    "\n",
    "#Running comparions between the females and the simulated females#\n",
    "result_tranining_Female_Female=[]\n",
    "for year in range(1959,2016):\n",
    "    y_Single_Year=yFemale[np.where(XFemale['Year']==year)[0]]\n",
    "    y_Single_Year_Simulated=yFemaleP[np.where(XFemale['Year']==year)[0]]\n",
    "    help=[]\n",
    "    for j in range(100):\n",
    "        help.append(np.mean(y_Single_Year)/np.mean(np.random.choice(y_Single_Year_Simulated,min(len(y_Single_Year_Simulated),number_len_females[year-1959]),replace=True)))\n",
    "    result_tranining_Female_Female.append((year,np.mean(help),np.std(help)))  \n",
    "xdata=np.array(column(result_tranining_Female_Female,0))\n",
    "ydata=np.array(column(result_tranining_Female_Female,1))\n",
    "yerrdata=np.array(column(result_tranining_Female_Female,2))\n",
    "outfull = optimize.leastsq(errfunc, pinit,args=(xdata, ydata, yerrdata), full_output=1)\n",
    "out85 = optimize.leastsq(errfunc, pinit,args=(xdata[26:], ydata[26:], yerrdata[26:]), full_output=1)\n",
    "out00 = optimize.leastsq(errfunc, pinit,args=(xdata[41:], ydata[41:], yerrdata[41:]), full_output=1)\n",
    "pfinal = [outfull[0][0],out85[0][0],out00[0][0]]\n",
    "np.savetxt(\"femaleResult.csv\",[xdata,ydata,yerrdata], delimiter=\",\")\n",
    "np.savetxt(\"pfinalfemaleResult.csv\",pfinal, delimiter=\",\")\n",
    "\n",
    "\n"
   ]
  },
  {
   "cell_type": "code",
   "execution_count": null,
   "metadata": {
    "collapsed": true
   },
   "outputs": [],
   "source": [
    "##Function to show importance of each property"
   ]
  },
  {
   "cell_type": "code",
   "execution_count": 6,
   "metadata": {
    "collapsed": false
   },
   "outputs": [
    {
     "data": {
      "image/png": "[encoded data removed]",
      "text/plain": [
       "<matplotlib.figure.Figure at 0x7f2bbb93d190>"
      ]
     },
     "metadata": {},
     "output_type": "display_data"
    }
   ],
   "source": [
    "def graph_feature_importances(model,feature_names,autoscale=True,headroom=0.05,width=10,summarized_columns=None):\n",
    "    if autoscale:\n",
    "        x_scale=model.feature_importances_.max()+headroom\n",
    "    else:\n",
    "        x_scale=1\n",
    "        \n",
    "    feature_dict=dict(zip(feature_names,model.feature_importances_)) \n",
    "    \n",
    "    if summarized_columns:\n",
    "        for col_name in summarized_columns:\n",
    "            sum_value=sum(x for i, x in feature_dict.iteritems() if col_name in i)\n",
    "            keys_to_remove=[i for i in feature_dict.keys() if col_name in i]\n",
    "            for i in keys_to_remove:\n",
    "                feature_dict.pop(i)\n",
    "            feature_dict[col_name]=sum_value\n",
    "            \n",
    "    results=pd.Series(feature_dict.values(), index=feature_dict.keys())\n",
    "    results.sort(axis=1)\n",
    "    results.plot(kind=\"barh\", figsize=(width,len(results)/2),xlim=(0,x_scale))\n",
    "    \n",
    "    \n",
    "graph_feature_importances(model,X.columns,summarized_columns=categorical_variables)"
   ]
  },
  {
   "cell_type": "code",
   "execution_count": null,
   "metadata": {
    "collapsed": true
   },
   "outputs": [],
   "source": []
  }
 ],
 "metadata": {
  "kernelspec": {
   "display_name": "Python 2",
   "language": "python",
   "name": "python2"
  },
  "language_info": {
   "codemirror_mode": {
    "name": "ipython",
    "version": 2
   },
   "file_extension": ".py",
   "mimetype": "text/x-python",
   "name": "python",
   "nbconvert_exporter": "python",
   "pygments_lexer": "ipython2",
   "version": "2.7.10"
  }
 },
 "nbformat": 4,
 "nbformat_minor": 0
}
